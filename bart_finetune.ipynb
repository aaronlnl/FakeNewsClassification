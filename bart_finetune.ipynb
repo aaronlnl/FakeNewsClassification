{
 "cells": [
  {
   "cell_type": "code",
   "execution_count": null,
   "id": "9015b9b1",
   "metadata": {},
   "outputs": [],
   "source": [
    "import pandas as pd\n",
    "from transformers import AutoTokenizer, AutoModelForSequenceClassification, DataCollatorWithPadding, Trainer, TrainingArguments, EvalPrediction\n",
    "from datasets import Dataset\n",
    "import evaluate"
   ]
  },
  {
   "cell_type": "code",
   "execution_count": null,
   "id": "a9cf2cd8",
   "metadata": {},
   "outputs": [],
   "source": [
    "labels = [\"pants-fire\", \"false\", \"barely-true\", \"half-true\", \"mostly-true\", \"true\"]\n",
    "\n",
    "# Load tokenizer and model\n",
    "model_name = \"facebook/bart-large-mnli\"\n",
    "tokenizer = AutoTokenizer.from_pretrained(model_name)\n",
    "model = AutoModelForSequenceClassification.from_pretrained(model_name, num_labels = len(labels), ignore_mismatched_sizes=True)"
   ]
  },
  {
   "cell_type": "code",
   "execution_count": null,
   "id": "45843832",
   "metadata": {},
   "outputs": [],
   "source": [
    "# Load training data and validation data\n",
    "label2id = { label: i for (i, label) in enumerate(labels) }\n",
    "id2label = { i:label for (i, label) in enumerate(labels) }\n",
    "\n",
    "train_df = pd.read_csv(\"./data/train.tsv\"\n",
    "                 , sep='\\t'\n",
    "                 , header=None\n",
    "                 , names = [\"id\", \"label\", \"text\", \"subject\", \"speaker\", \"speaker_job_title\",\n",
    "                            \"state\", \"party_affiliation\", \"barely_true_counts\", \"false_counts\", \"half_true_counts\", \"mostly_true_counts\", \"pants_fire_counts\", \"context\"])\n",
    "# train_df = train_df[[\"text\", \"label\"]].head()\n",
    "\n",
    "val_df = pd.read_csv(\"./data/valid.tsv\"\n",
    "                 , sep='\\t'\n",
    "                 , header=None\n",
    "                 , names = [\"id\", \"label\", \"text\", \"subject\", \"speaker\", \"speaker_job_title\",\n",
    "                            \"state\", \"party_affiliation\", \"barely_true_counts\", \"false_counts\", \"half_true_counts\", \"mostly_true_counts\", \"pants_fire_counts\", \"context\"])\n",
    "# val_df = val_df[[\"text\", \"label\"]].head()\n",
    "\n",
    "train_df[\"label\"] = train_df[\"label\"].map(label2id)\n",
    "val_df[\"label\"] = val_df[\"label\"].map(label2id)\n",
    "\n",
    "train_df[\"label\"] = train_df[\"label\"].astype(int)\n",
    "val_df[\"label\"] = val_df[\"label\"].astype(int)\n",
    "\n",
    "train_ds = Dataset.from_pandas(train_df)\n",
    "val_ds = Dataset.from_pandas(val_df)"
   ]
  },
  {
   "cell_type": "code",
   "execution_count": null,
   "id": "9c6e3831",
   "metadata": {},
   "outputs": [],
   "source": [
    "# Preprocess data\n",
    "def preprocess(batch):\n",
    "    return tokenizer(batch[\"text\"], truncation = True)\n",
    "\n",
    "train_ds = train_ds.map(preprocess, batched = True)\n",
    "val_ds = val_ds.map(preprocess, batched = True)\n",
    "\n",
    "data_collator = DataCollatorWithPadding(tokenizer)\n"
   ]
  },
  {
   "cell_type": "code",
   "execution_count": null,
   "id": "f0bc804e",
   "metadata": {},
   "outputs": [],
   "source": [
    "# Metrics\n",
    "accuracy = evaluate.load(\"accuracy\")\n",
    "\n",
    "def compute_metrics(eval_pred):\n",
    "    preds = eval_pred.predictions\n",
    "    # If predictions come as a tuple, select the first element\n",
    "    if isinstance(preds, tuple):\n",
    "        preds = preds[0]\n",
    "    predictions = preds.argmax(axis=-1)\n",
    "    return accuracy.compute(predictions=predictions, references=eval_pred.label_ids)\n"
   ]
  },
  {
   "cell_type": "code",
   "execution_count": null,
   "id": "a2dabd9b",
   "metadata": {},
   "outputs": [],
   "source": [
    "training_args = TrainingArguments(\n",
    "    output_dir = \"./bart_mnli_finetuned_1\",\n",
    "    eval_strategy = \"epoch\",\n",
    "    save_strategy=\"epoch\",\n",
    "    learning_rate=2e-5,\n",
    "    per_device_train_batch_size=2,\n",
    "    per_device_eval_batch_size=2,\n",
    "    num_train_epochs=3,\n",
    "    weight_decay=0.01,\n",
    "    logging_dir=\"./logs\",\n",
    "    logging_steps=50,\n",
    "    load_best_model_at_end=True,\n",
    "    metric_for_best_model=\"accuracy\",\n",
    ")\n",
    "\n",
    "trainer = Trainer(\n",
    "    model=model,\n",
    "    args=training_args,\n",
    "    train_dataset=train_ds,\n",
    "    eval_dataset=val_ds,\n",
    "    tokenizer=tokenizer,\n",
    "    data_collator=data_collator,\n",
    "    compute_metrics=compute_metrics,\n",
    ")"
   ]
  },
  {
   "cell_type": "code",
   "execution_count": null,
   "id": "aa22e0c2",
   "metadata": {},
   "outputs": [],
   "source": [
    "trainer.train()\n",
    "print(trainer.evaluate())"
   ]
  },
  {
   "cell_type": "code",
   "execution_count": null,
   "id": "ada1f65c",
   "metadata": {},
   "outputs": [],
   "source": [
    "import matplotlib.pyplot as plt\n",
    "\n",
    "# 2. Grab the log history\n",
    "logs = trainer.state.log_history\n",
    "\n",
    "# 3. Extract epoch numbers & corresponding eval accuracies\n",
    "epochs = []\n",
    "accuracies = []\n",
    "for entry in logs:\n",
    "    if \"eval_accuracy\" in entry:\n",
    "        epochs.append(entry[\"epoch\"])\n",
    "        accuracies.append(entry[\"eval_accuracy\"])\n",
    "\n",
    "# 4. Plot\n",
    "plt.figure(figsize=(8, 5))\n",
    "plt.plot(epochs, accuracies, marker=\"o\", linestyle=\"-\", color=\"tab:blue\")\n",
    "plt.title(\"Validation Accuracy per Epoch\")\n",
    "plt.xlabel(\"Epoch\")\n",
    "plt.ylabel(\"Accuracy\")\n",
    "plt.xticks(epochs)           # ensure we label each epoch\n",
    "plt.ylim(0, 1.0)             # accuracy ranges from 0 to 1\n",
    "plt.grid(alpha=0.3)\n",
    "plt.tight_layout()\n",
    "plt.show()"
   ]
  }
 ],
 "metadata": {
  "kernelspec": {
   "display_name": ".venv",
   "language": "python",
   "name": "python3"
  },
  "language_info": {
   "codemirror_mode": {
    "name": "ipython",
    "version": 3
   },
   "file_extension": ".py",
   "mimetype": "text/x-python",
   "name": "python",
   "nbconvert_exporter": "python",
   "pygments_lexer": "ipython3",
   "version": "3.11.0rc1"
  }
 },
 "nbformat": 4,
 "nbformat_minor": 5
}
